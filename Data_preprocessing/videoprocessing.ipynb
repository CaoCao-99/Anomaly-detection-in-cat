import os
import shutil
import subprocess
import cv2

def get_video_fps(file_path):
    # 비디오 파일로부터 FPS 값을 가져오기
    cap = cv2.VideoCapture(file_path)
    fps = cap.get(cv2.CAP_PROP_FPS)
    cap.release()
    return fps

def process_videos(input_folder, output_folder, target_fps=30, max_duration_minutes=10):
    # 생성할 폴더가 없다면 생성
    os.makedirs(output_folder, exist_ok=True)
    # 각 하위 폴더의 .mp4 파일에 대해 작업 수행
    for subfolder in os.listdir(input_folder):
        subfolder_path = os.path.join(input_folder, subfolder)
        if os.path.isdir(subfolder_path):
            # 하위 폴더에 있는 모든 .mp4 파일에 대해 작업 수행
            output_subfolder = os.path.join(output_folder, subfolder)
            os.makedirs(output_subfolder, exist_ok=True)
            for file_name in os.listdir(subfolder_path):
                if file_name.endswith(".mp4"):
                    input_file = os.path.join(subfolder_path, file_name)
                    output_file = os.path.join(output_subfolder, file_name)

                    # 영상의 fps 및 길이 가져오기
                    fps = get_video_fps(input_file)
                    duration_minutes = os.path.getsize(input_file) / (1024 * 1024 * 60.0)  # MB to minutes

                    # 이미 30fps이고 길이가 10분 미만인 경우 건너뛰기
                    if fps == target_fps and duration_minutes < max_duration_minutes:
                        print(f"Skipping {file_name} - Already {target_fps}fps and duration < {max_duration_minutes} minutes")
                        # 영상을 복사하여 새로운 폴더에 붙여넣기
                        shutil.copyfile(input_file, output_file)
                        continue



                    # 만약 FPS를 변경해야 한다면 FFmpeg를 사용하여 FPS를 30으로 변경
                    if fps != target_fps and duration_minutes < max_duration_minutes:
                        subprocess.run(["ffmpeg", "-i", input_file, "-r", str(target_fps),
                                        "-c:v", "libx264", "-crf", "23", "-c:a", "aac", "-b:a", "128k", output_file])

    print("작업 완료")

# 입력 폴더와 출력 폴더 설정[[]]
input_folder = "/home/sm32289/Cat_Pose/KeypointDetection_Yolo/Test_video"
output_folder = "/home/sm32289/Cat_Pose/KeypointDetection_Yolo/Test_video_30"
# 예시 사용
process_videos(input_folder, output_folder, 30, 30)


